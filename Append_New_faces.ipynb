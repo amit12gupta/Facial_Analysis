{
 "cells": [
  {
   "cell_type": "code",
   "execution_count": 16,
   "metadata": {},
   "outputs": [
    {
     "name": "stdout",
     "output_type": "stream",
     "text": [
      "[INFO] loading encodings...\n"
     ]
    }
   ],
   "source": [
    "# import the necessary packages\n",
    "from imutils.video import VideoStream\n",
    "import face_recognition\n",
    "import argparse\n",
    "import imutils\n",
    "import pickle\n",
    "import time\n",
    "import cv2\n",
    "import os\n",
    "from imutils import paths\n",
    "\n",
    "# load the known faces and embeddings\n",
    "print(\"[INFO] loading encodings...\")\n",
    "data = pickle.loads(open('models/encodings', \"rb\").read())\n",
    "input_path = \"Untrained_images\"\n",
    "imagePaths = list(paths.list_images(input_path))\n",
    "#print(imagePaths)"
   ]
  },
  {
   "cell_type": "code",
   "execution_count": null,
   "metadata": {},
   "outputs": [],
   "source": [
    "# initialize the list of known encodings and known names\n",
    "knownEncodings = []\n",
    "knownNames = []\n",
    "\n",
    "# loop over the image paths\n",
    "for (i, imagePath) in enumerate(imagePaths):\n",
    "    # extract the person name from the image path\n",
    "    print(\"[INFO] processing image {}/{}\".format(i + 1,\n",
    "        len(imagePaths)))\n",
    "    name = imagePath.split(os.path.sep)[-2]\n",
    "\n",
    "    # load the input image and convert it from RGB (OpenCV ordering) to dlib ordering (RGB)\n",
    "    image = cv2.imread(imagePath)\n",
    "    rgb = cv2.cvtColor(image, cv2.COLOR_BGR2RGB)\n",
    "\n",
    "    # detect the (x, y)-coordinates of the bounding boxes corresponding to each face in the input image\n",
    "    boxes = face_recognition.face_locations(rgb,\n",
    "        model='CNN') # args[\"detection_method\"]\n",
    "    # The CNN method is more accurate but slower. HOG is faster but less accurate.\n",
    "\n",
    "    # compute the facial embedding for the face\n",
    "    encodings = face_recognition.face_encodings(rgb, boxes)\n",
    "\n",
    "    # loop over the encodings\n",
    "    for encoding in encodings:\n",
    "        # add each encoding + name to our set of known names and encodings\n",
    "        knownEncodings.append(encoding)\n",
    "        knownNames.append(name)\n",
    "new_data = {\"encodings\": knownEncodings, \"names\": knownNames}\n",
    "data[\"names\"] = data[\"names\"] + new_data[\"names\"]\n",
    "data[\"encodings\"] = data[\"encodings\"] + new_data[\"encodings\"]\n",
    "\n",
    "# face detection methods include either hog  or cnn\n",
    "f = open('C:/Users/amit.gupta9/Python_Codes/Image Analytics/Complete_Face_Analytics/models/encodings', \"wb\")\n",
    "f.write(pickle.dumps(data))\n",
    "f.close()"
   ]
  }
 ],
 "metadata": {
  "kernelspec": {
   "display_name": "image3.6",
   "language": "python",
   "name": "image3.6"
  },
  "language_info": {
   "codemirror_mode": {
    "name": "ipython",
    "version": 3
   },
   "file_extension": ".py",
   "mimetype": "text/x-python",
   "name": "python",
   "nbconvert_exporter": "python",
   "pygments_lexer": "ipython3",
   "version": "3.6.6"
  }
 },
 "nbformat": 4,
 "nbformat_minor": 2
}
